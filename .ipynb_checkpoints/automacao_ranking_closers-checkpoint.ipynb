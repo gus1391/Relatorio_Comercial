{
 "cells": [
  {
   "cell_type": "markdown",
   "id": "5c9a94da",
   "metadata": {},
   "source": [
    "# Automação do dashboard Ranking Closers"
   ]
  },
  {
   "cell_type": "code",
   "execution_count": 1,
   "id": "ec6afa0c",
   "metadata": {},
   "outputs": [],
   "source": [
    "#imports\n",
    "\n",
    "import pandas as pd\n",
    "import os\n",
    "\n",
    "#defini o maximo de colunas que o pandas mostra por padrão\n",
    "pd.options.display.max_columns = 100"
   ]
  },
  {
   "cell_type": "code",
   "execution_count": 37,
   "id": "813dd625",
   "metadata": {},
   "outputs": [],
   "source": [
    "#importar datasets\n",
    "df1 = pd.read_csv('dados/Analise e Pagamento.csv', encoding='latin-1')\n",
    "df2 = pd.read_csv('dados/Ganhos.csv', encoding='latin-1')\n",
    "df3 = pd.read_csv('dados/Islu.csv', encoding='latin-1')\n",
    "df4 = pd.read_csv('dados/Leads Qualificados.csv', encoding='latin-1')\n",
    "df5 = pd.read_csv('dados/Previsão de pagamento.csv', encoding='latin-1')"
   ]
  },
  {
   "cell_type": "code",
   "execution_count": 38,
   "id": "eb01f0c6",
   "metadata": {},
   "outputs": [],
   "source": [
    "#importar dataset das colunas\n",
    "df1_colum = pd.read_excel('dados/Colunas/Analise e Pagamento colums.xlsx')\n",
    "df2_colum = pd.read_excel('dados/Colunas/Ganhos colums.xlsx')\n",
    "df3_colum = pd.read_excel('dados/Colunas/Islu colums.xlsx')\n",
    "df4_colum = pd.read_excel('dados/Colunas/Leads Qualificados colums.xlsx')\n",
    "df5_colum = pd.read_excel('dados/Colunas/Previsão de pagamento colums.xlsx')"
   ]
  },
  {
   "cell_type": "code",
   "execution_count": 39,
   "id": "00f0a733",
   "metadata": {},
   "outputs": [],
   "source": [
    "#cria lista com o nome das colunas do dataset\n",
    "colunas1 = df1_colum.columns.tolist()\n",
    "colunas2 = df2_colum.columns.tolist()\n",
    "colunas3 = df3_colum.columns.tolist()\n",
    "colunas4 = df4_colum.columns.tolist()\n",
    "colunas5 = df5_colum.columns.tolist()"
   ]
  },
  {
   "cell_type": "code",
   "execution_count": 40,
   "id": "5e0f0f81",
   "metadata": {},
   "outputs": [],
   "source": [
    "#deleta as colunas que não estão na lista\n",
    "df1 = df1.loc[:, colunas1]\n",
    "df2 = df2.loc[:, colunas2]\n",
    "df3 = df3.loc[:, colunas3]\n",
    "df4 = df4.loc[:, colunas4]\n",
    "df5 = df5.loc[:, colunas5]"
   ]
  },
  {
   "cell_type": "code",
   "execution_count": 41,
   "id": "daf208bb",
   "metadata": {},
   "outputs": [],
   "source": [
    "\n",
    "def formatar_valor(df):\n",
    "    # substitui ponto por vírgula na coluna \"Valor\"\n",
    "    df['Valor'] = df['Valor'].replace('.', ',', regex=True)\n",
    "    \n",
    "    # converte a coluna \"Valor\" para o tipo monetário\n",
    "    df['Valor'] = pd.to_numeric(df['Valor'], errors='coerce')\n",
    "    \n",
    "    # formata a coluna \"Valor\" como tipo monetário\n",
    "    df['Valor'] = df['Valor'].apply(lambda x: '{:,.2f}'.format(x).replace(',', 'v').replace('.', ',').replace('v', '.'))    \n",
    "    return df"
   ]
  },
  {
   "cell_type": "code",
   "execution_count": 42,
   "id": "bf531746",
   "metadata": {},
   "outputs": [],
   "source": [
    "df1 = formatar_valor(df1)\n",
    "df2 = formatar_valor(df2)\n",
    "df3 = formatar_valor(df3)\n",
    "df4 = formatar_valor(df4)\n",
    "df5 = formatar_valor(df5)"
   ]
  },
  {
   "cell_type": "code",
   "execution_count": 43,
   "id": "13234f8a",
   "metadata": {},
   "outputs": [],
   "source": [
    "def salvar_dataframe(dataframe, nome_arquivo):\n",
    "    # Define o caminho onde o arquivo será salvo\n",
    "    caminho_salvar = 'C:\\\\Users\\\\Gustavo\\\\Documents\\\\Mont seguro\\\\Ranking Closers'\n",
    "    # Define o nome completo do arquivo, incluindo o caminho\n",
    "    caminho_completo = os.path.join(caminho_salvar, nome_arquivo)\n",
    "    # Salva o DataFrame em um arquivo Excel\n",
    "    dataframe.to_excel(caminho_completo, index=False)"
   ]
  },
  {
   "cell_type": "code",
   "execution_count": 44,
   "id": "e70d0c38",
   "metadata": {},
   "outputs": [],
   "source": [
    "salvar_dataframe(df1, 'Analise e Pagamento.xlsx')\n",
    "salvar_dataframe(df2, 'Ganhos.xlsx')\n",
    "salvar_dataframe(df3, 'Islu.xlsx')\n",
    "salvar_dataframe(df4, 'Leads Qualificados.xlsx')\n",
    "salvar_dataframe(df5, 'Previsão de pagamento.xlsx')"
   ]
  },
  {
   "cell_type": "code",
   "execution_count": null,
   "id": "8b31eed8",
   "metadata": {},
   "outputs": [],
   "source": []
  }
 ],
 "metadata": {
  "kernelspec": {
   "display_name": "Python 3 (ipykernel)",
   "language": "python",
   "name": "python3"
  },
  "language_info": {
   "codemirror_mode": {
    "name": "ipython",
    "version": 3
   },
   "file_extension": ".py",
   "mimetype": "text/x-python",
   "name": "python",
   "nbconvert_exporter": "python",
   "pygments_lexer": "ipython3",
   "version": "3.9.13"
  }
 },
 "nbformat": 4,
 "nbformat_minor": 5
}
