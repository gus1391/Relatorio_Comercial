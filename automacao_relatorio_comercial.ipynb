{
 "cells": [
  {
   "cell_type": "markdown",
   "id": "5c9a94da",
   "metadata": {},
   "source": [
    "# Automação do dashboard Relatorio_Comercial"
   ]
  },
  {
   "cell_type": "code",
   "execution_count": 1,
   "id": "ec6afa0c",
   "metadata": {},
   "outputs": [],
   "source": [
    "#imports\n",
    "\n",
    "import pandas as pd\n",
    "import os\n",
    "from functools import reduce\n",
    "\n",
    "#defini o maximo de colunas que o pandas mostra por padrão\n",
    "pd.options.display.max_columns = 100"
   ]
  },
  {
   "cell_type": "code",
   "execution_count": 2,
   "id": "813dd625",
   "metadata": {},
   "outputs": [
    {
     "name": "stderr",
     "output_type": "stream",
     "text": [
      "C:\\ProgramData\\Anaconda3\\lib\\site-packages\\openpyxl\\styles\\stylesheet.py:226: UserWarning: Workbook contains no default style, apply openpyxl's default\n",
      "  warn(\"Workbook contains no default style, apply openpyxl's default\")\n"
     ]
    }
   ],
   "source": [
    "#importar datasets\n",
    "df1 = pd.read_csv('dados/Análise e Pagamento.csv', encoding='latin-1')\n",
    "df2 = pd.read_excel('dados/Facebook.xlsx')\n",
    "df3 = pd.read_csv('dados/Fase Atual.csv', encoding='latin-1')\n",
    "df4 = pd.read_csv('dados/Ganhos e Produtividade.csv', encoding='latin-1')\n",
    "df5 = pd.read_csv('dados/Ganhos.csv', encoding='latin-1')"
   ]
  },
  {
   "cell_type": "code",
   "execution_count": 3,
   "id": "9addb3a5",
   "metadata": {
    "scrolled": true
   },
   "outputs": [
    {
     "name": "stderr",
     "output_type": "stream",
     "text": [
      "C:\\Users\\WIN10\\AppData\\Local\\Temp\\ipykernel_9568\\1279340427.py:2: DtypeWarning: Columns (10,11,12,15,33,43,44,53,55,57,58,59,68,69,70,71,72,76,77,78) have mixed types. Specify dtype option on import or set low_memory=False.\n",
      "  df7 = pd.read_csv('dados/Moskit.csv', encoding='latin-1', on_bad_lines='skip')\n",
      "C:\\Users\\WIN10\\AppData\\Local\\Temp\\ipykernel_9568\\1279340427.py:4: DtypeWarning: Columns (8,20,21,39,51,53,57,61,62,64,68,72,76,77,78) have mixed types. Specify dtype option on import or set low_memory=False.\n",
      "  df9 = pd.read_csv('dados/Relatorio_Comercial.csv', encoding='latin-1')\n"
     ]
    }
   ],
   "source": [
    "df6 = pd.read_excel('dados/Google.xlsx')\n",
    "df7 = pd.read_csv('dados/Moskit.csv', encoding='latin-1', on_bad_lines='skip')\n",
    "df8 = pd.read_csv('dados/Produtividade Closers.csv', encoding='latin-1')\n",
    "df9 = pd.read_csv('dados/Relatorio_Comercial.csv', encoding='latin-1')\n",
    "df10 = pd.read_csv('dados/Negociação.csv', encoding='latin-1')\n",
    "df11 = pd.read_excel('C:\\\\Users\\\\WIN10\\\\Documents\\\\Mont seguro\\\\Relatorio_Comercial\\\\dados\\\\Facebook1.xlsx')"
   ]
  },
  {
   "cell_type": "code",
   "execution_count": 4,
   "id": "bfe28a12",
   "metadata": {},
   "outputs": [],
   "source": [
    "df6 = df6.set_axis(df6.iloc[1], axis=1).drop(1)\n",
    "df6 = df6.drop(index=[0])"
   ]
  },
  {
   "cell_type": "code",
   "execution_count": 5,
   "id": "d6d4eaaa",
   "metadata": {
    "scrolled": true
   },
   "outputs": [
    {
     "name": "stderr",
     "output_type": "stream",
     "text": [
      "C:\\Users\\WIN10\\AppData\\Local\\Temp\\ipykernel_9568\\3509539304.py:1: FutureWarning: The frame.append method is deprecated and will be removed from pandas in a future version. Use pandas.concat instead.\n",
      "  df2 = df11.append(df2)\n"
     ]
    }
   ],
   "source": [
    "df2 = df11.append(df2)"
   ]
  },
  {
   "cell_type": "code",
   "execution_count": 6,
   "id": "eb01f0c6",
   "metadata": {},
   "outputs": [],
   "source": [
    "#importar dataset das colunas\n",
    "df1_colum = pd.read_excel('dados/Colunas/Analise e Pagamento colums.xlsx')\n",
    "df2_colum = pd.read_excel('dados/Colunas/Facebook colums.xlsx')\n",
    "df3_colum = pd.read_excel('dados/Colunas/Fase Atual colums.xlsx')\n",
    "df4_colum = pd.read_excel('dados/Colunas/Ganhos colums.xlsx')\n",
    "df5_colum = pd.read_excel('dados/Colunas/Ganhos_Produtividade colums.xlsx')"
   ]
  },
  {
   "cell_type": "code",
   "execution_count": 7,
   "id": "eee9f7ea",
   "metadata": {},
   "outputs": [],
   "source": [
    "df6_colum = pd.read_excel('dados/Colunas/Google colums.xlsx')\n",
    "df7_colum = pd.read_excel('dados/Colunas/Moskit colums.xlsx')\n",
    "df8_colum = pd.read_excel('dados/Colunas/Produtividade Closers colums.xlsx')\n",
    "df9_colum = pd.read_excel('dados/Colunas/Relatorio_Comercial colums.xlsx')\n"
   ]
  },
  {
   "cell_type": "code",
   "execution_count": 8,
   "id": "00f0a733",
   "metadata": {},
   "outputs": [],
   "source": [
    "#cria lista com o nome das colunas do dataset\n",
    "colunas1 = df1_colum.columns.tolist()\n",
    "colunas2 = df2_colum.columns.tolist()\n",
    "colunas3 = df3_colum.columns.tolist()\n",
    "colunas4 = df4_colum.columns.tolist()\n",
    "colunas5 = df5_colum.columns.tolist()"
   ]
  },
  {
   "cell_type": "code",
   "execution_count": 9,
   "id": "75374cc7",
   "metadata": {},
   "outputs": [],
   "source": [
    "colunas6 = df6_colum.columns.tolist()\n",
    "colunas7 = df7_colum.columns.tolist()\n",
    "colunas8 = df8_colum.columns.tolist()\n",
    "colunas9 = df9_colum.columns.tolist()\n"
   ]
  },
  {
   "cell_type": "code",
   "execution_count": 10,
   "id": "5e0f0f81",
   "metadata": {
    "scrolled": true
   },
   "outputs": [],
   "source": [
    "#deleta as colunas que não estão na lista\n",
    "df1 = df1.loc[:, colunas1]\n",
    "df2 = df2.loc[:, colunas2]\n",
    "df3 = df3.loc[:, colunas3]\n",
    "df4 = df4.loc[:, colunas4]\n",
    "df5 = df5.loc[:, colunas5]"
   ]
  },
  {
   "cell_type": "code",
   "execution_count": 11,
   "id": "0c37be6c",
   "metadata": {},
   "outputs": [],
   "source": [
    "#df6 = df6.loc[:, colunas6]\n",
    "df7 = df7.loc[:, colunas7]\n",
    "df8 = df8.loc[:, colunas8]\n",
    "df9 = df9.loc[:, colunas9]\n"
   ]
  },
  {
   "cell_type": "code",
   "execution_count": 12,
   "id": "84f7f902",
   "metadata": {},
   "outputs": [],
   "source": [
    "df2 = df2.rename(columns={'Valor gasto (BRL)': 'Valor'})\n",
    "df6 = df6.rename(columns={'Custo': 'Valor'})\n"
   ]
  },
  {
   "cell_type": "code",
   "execution_count": 13,
   "id": "daf208bb",
   "metadata": {},
   "outputs": [],
   "source": [
    "\n",
    "def formatar_valor(df):\n",
    "    # substitui ponto por vírgula na coluna \"Valor\"\n",
    "    df['Valor'] = df['Valor'].replace('.', ',', regex=True)\n",
    "    \n",
    "    # converte a coluna \"Valor\" para o tipo monetário\n",
    "    df['Valor'] = pd.to_numeric(df['Valor'], errors='coerce')\n",
    "    \n",
    "    # formata a coluna \"Valor\" como tipo monetário\n",
    "    df['Valor'] = df['Valor'].apply(lambda x: '{:,.2f}'.format(x).replace(',', 'v').replace('.', ',').replace('v', '.'))\n",
    "    return df"
   ]
  },
  {
   "cell_type": "code",
   "execution_count": 14,
   "id": "bf531746",
   "metadata": {},
   "outputs": [],
   "source": [
    "df1 = formatar_valor(df1)\n",
    "df2 = formatar_valor(df2)\n",
    "df3 = formatar_valor(df3)\n",
    "df4 = formatar_valor(df4)\n",
    "df5 = formatar_valor(df5)"
   ]
  },
  {
   "cell_type": "code",
   "execution_count": 15,
   "id": "8a1bf201",
   "metadata": {
    "scrolled": true
   },
   "outputs": [],
   "source": [
    "df6 = formatar_valor(df6)\n",
    "df7 = formatar_valor(df7)\n",
    "df8 = formatar_valor(df8)\n",
    "df9 = formatar_valor(df9)\n",
    "df10 = formatar_valor(df10)"
   ]
  },
  {
   "cell_type": "code",
   "execution_count": 16,
   "id": "84ec6b7e",
   "metadata": {},
   "outputs": [],
   "source": [
    "df2 = df2.rename(columns={'Valor': 'Valor gasto (BRL)'})\n",
    "df6 = df6.rename(columns={'Valor': 'Custo'})"
   ]
  },
  {
   "cell_type": "code",
   "execution_count": 17,
   "id": "13234f8a",
   "metadata": {},
   "outputs": [],
   "source": [
    "def salvar_dataframe(dataframe, nome_arquivo):\n",
    "    # Define o caminho onde o arquivo será salvo\n",
    "    caminho_salvar = 'C:\\\\Users\\\\WIN10\\\\Documents\\\\Mont seguro\\\\Relatorio_Comercial'\n",
    "    # Define o nome completo do arquivo, incluindo o caminho\n",
    "    caminho_completo = os.path.join(caminho_salvar, nome_arquivo)\n",
    "    # Salva o DataFrame em um arquivo Excel\n",
    "    dataframe.to_excel(caminho_completo, index=False)"
   ]
  },
  {
   "cell_type": "code",
   "execution_count": 18,
   "id": "e70d0c38",
   "metadata": {},
   "outputs": [],
   "source": [
    "#salvar os novos dataframes\n",
    "salvar_dataframe(df1, 'Analise e Pagamento.xlsx')\n",
    "salvar_dataframe(df2, 'Facebook.xlsx')\n",
    "salvar_dataframe(df3, 'Fase Atual.xlsx')\n",
    "salvar_dataframe(df4, 'Ganhos_Produtividade.xlsx')\n",
    "salvar_dataframe(df5, 'Ganhos.xlsx')"
   ]
  },
  {
   "cell_type": "code",
   "execution_count": 19,
   "id": "8b31eed8",
   "metadata": {},
   "outputs": [],
   "source": [
    "salvar_dataframe(df6, 'Google.xlsx')\n",
    "salvar_dataframe(df7, 'Moskit.xlsx')\n",
    "salvar_dataframe(df8, 'Produtividade Closers.xlsx')\n",
    "salvar_dataframe(df9, 'Relatorio_Comercial.xlsx')\n",
    "salvar_dataframe(df10, 'Negociação.xlsx')"
   ]
  },
  {
   "cell_type": "code",
   "execution_count": null,
   "id": "55935eeb",
   "metadata": {},
   "outputs": [],
   "source": []
  }
 ],
 "metadata": {
  "kernelspec": {
   "display_name": "Python 3 (ipykernel)",
   "language": "python",
   "name": "python3"
  },
  "language_info": {
   "codemirror_mode": {
    "name": "ipython",
    "version": 3
   },
   "file_extension": ".py",
   "mimetype": "text/x-python",
   "name": "python",
   "nbconvert_exporter": "python",
   "pygments_lexer": "ipython3",
   "version": "3.9.13"
  }
 },
 "nbformat": 4,
 "nbformat_minor": 5
}
