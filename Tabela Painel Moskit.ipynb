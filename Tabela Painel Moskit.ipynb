{
 "cells": [
  {
   "cell_type": "code",
   "execution_count": 1,
   "id": "f0dddced",
   "metadata": {},
   "outputs": [],
   "source": [
    "#importa as bibliotecas\n",
    "import pandas as pd\n",
    "import numpy as np\n",
    "import os\n",
    "import datetime\n",
    "from functools import reduce"
   ]
  },
  {
   "cell_type": "code",
   "execution_count": 2,
   "id": "285fa826",
   "metadata": {},
   "outputs": [],
   "source": [
    "#Abre o Fase atual\n",
    "df = pd.read_excel(\"C:\\\\Users\\\\WIN10\\\\Documents\\\\Mont seguro\\\\Relatorio_Comercial\\\\Fase Atual.xlsx\")\n",
    "\n",
    "#Abre o Ganhos\n",
    "df2 = pd.read_excel(\"C:\\\\Users\\\\WIN10\\\\Documents\\\\Mont seguro\\\\Relatorio_Comercial\\\\Ganhos.xlsx\")\n",
    "\n",
    "#Abre o Negociação\n",
    "df3 = pd.read_csv(\"C:\\\\Users\\\\WIN10\\\\Documents\\\\Mont seguro\\\\Automação\\\\Relatorio_Comercial\\\\dados\\\\Negociação.csv\", encoding='latin-1')"
   ]
  },
  {
   "cell_type": "code",
   "execution_count": 3,
   "id": "9b8dd317",
   "metadata": {},
   "outputs": [],
   "source": [
    "def preprocess_dataframe(df):\n",
    "    # cria um objeto que convete string em datetime\n",
    "    def extract_month(date_string):\n",
    "        date_obj = datetime.datetime.strptime(date_string, '%Y-%m-%d %H:%M:%S.%f')\n",
    "        return date_obj.month\n",
    "\n",
    "    # cria um objeto que convete string em datetime\n",
    "    def extract_year(date_string):\n",
    "        date_obj = datetime.datetime.strptime(date_string, '%Y-%m-%d %H:%M:%S.%f')\n",
    "        return date_obj.year\n",
    "\n",
    "    # cria uma nova coluna 'numero do mês' baseada na coluna 'Previsão de Pagamento'\n",
    "    df['numero do mês'] = df['Previsão de Pagamento'].dropna().apply(extract_month)\n",
    "    # cria uma nova coluna 'numero do ano' baseada na coluna 'Previsão de Pagamento'\n",
    "    df['numero do ano'] = df['Previsão de Pagamento'].dropna().apply(extract_year)\n",
    "\n",
    "    #transforma numeros nan em -1 inteiro\n",
    "    df['numero do mês'] = np.nan_to_num(df['numero do mês'], nan=-1).astype(int)\n",
    "\n",
    "    df['numero do ano'] = np.nan_to_num(df['numero do ano'], nan=-1).astype(int)\n",
    "    \n",
    "    #tira o primeiro ponto dos numero, depois troca a virgula por ponto e transforma string em float\n",
    "    if df['Valor'].dtype == 'object':\n",
    "        df['Valor'] = df['Valor'].str.replace('.', '').str.replace(',', '.').astype(float)\n",
    "\n",
    "    \n",
    "    return df"
   ]
  },
  {
   "cell_type": "code",
   "execution_count": 4,
   "id": "249a91d7",
   "metadata": {
    "scrolled": true
   },
   "outputs": [
    {
     "name": "stderr",
     "output_type": "stream",
     "text": [
      "C:\\Users\\WIN10\\AppData\\Local\\Temp\\ipykernel_18316\\3509542288.py:24: FutureWarning: The default value of regex will change from True to False in a future version. In addition, single character regular expressions will *not* be treated as literal strings when regex=True.\n",
      "  df['Valor'] = df['Valor'].str.replace('.', '').str.replace(',', '.').astype(float)\n",
      "C:\\Users\\WIN10\\AppData\\Local\\Temp\\ipykernel_18316\\3509542288.py:24: FutureWarning: The default value of regex will change from True to False in a future version. In addition, single character regular expressions will *not* be treated as literal strings when regex=True.\n",
      "  df['Valor'] = df['Valor'].str.replace('.', '').str.replace(',', '.').astype(float)\n"
     ]
    }
   ],
   "source": [
    "#aplica as modificações nos DataFrames\n",
    "\n",
    "df = preprocess_dataframe(df)\n",
    "df2 = preprocess_dataframe(df2)\n",
    "df3 = preprocess_dataframe(df3)\n"
   ]
  },
  {
   "cell_type": "code",
   "execution_count": 5,
   "id": "f0f37078",
   "metadata": {},
   "outputs": [],
   "source": [
    "#cria filtro previsão proximo mes\n",
    "filtro_proximo = ((df['numero do mês'] == datetime.datetime.now().month +1) & \n",
    "          (df['Fase atual'].isin(['Análise', 'Pagamento'])))\n",
    "\n",
    "\n",
    "\n",
    "# cria filtro previsão esse mês\n",
    "filtro_mes = ((df['numero do mês'] == datetime.datetime.now().month) | \n",
    "              (df['Previsão de Pagamento'].isna() &\n",
    "               df['Fase atual'].isin(['Análise', 'Pagamento'])))\n",
    "\n",
    "\n",
    "#cria filtro implantados\n",
    "filtro_implantados = ((df2['numero do mês'] == datetime.datetime.now().month ) & \n",
    "                      (df2['numero do ano'] == datetime.datetime.now().year ))\n",
    "\n",
    "\n",
    "#cria filtro pagamento\n",
    "\n",
    "filtro_pagamentos = (df['Fase atual'].isin(['Pagamento']))\n",
    "\n",
    "\n",
    "\n",
    "#cria filtro analise\n",
    "filtro_analise = (df['Fase atual'].isin(['Análise']))\n",
    "\n",
    "\n",
    "#cria filtro Documentação\n",
    "filtro_documentacao = (df['Fase atual'].isin(['Documentação']))\n",
    "\n",
    "#cria filtro fallow-up\n",
    "filtro_follow_up = (df['Fase atual'].isin(['Follow Up']))\n",
    "\n",
    "#cria filtro Documentação para filtros\n",
    "filtro_documentacao2 = (df['Fase atual'].isin(['Documentação']))"
   ]
  },
  {
   "cell_type": "code",
   "execution_count": 6,
   "id": "d666cc45",
   "metadata": {},
   "outputs": [],
   "source": [
    "newdf1 = filtro_proximo.to_frame(name='previsão proximo mes')\n",
    "newdf2 = filtro_mes.to_frame(name='previsão esse mes')\n",
    "newdf3 = filtro_implantados.to_frame(name='implantados')\n",
    "newdf4 = filtro_pagamentos.to_frame(name='pagamento')\n",
    "newdf5 = filtro_analise.to_frame(name='analise')\n",
    "newdf6 = filtro_documentacao2.to_frame(name='Documentação')\n",
    "newdf7 = filtro_follow_up.to_frame(name='fallow-up')\n"
   ]
  },
  {
   "cell_type": "code",
   "execution_count": 7,
   "id": "01987296",
   "metadata": {
    "scrolled": false
   },
   "outputs": [],
   "source": [
    "df3['contagem'] = df3['Responsável']\n",
    "df['contagem'] = df['Responsável']"
   ]
  },
  {
   "cell_type": "code",
   "execution_count": 8,
   "id": "26929cbd",
   "metadata": {},
   "outputs": [],
   "source": [
    "def agrupa_e_soma(df, filtro, coluna_valor, nome_coluna):\n",
    "    df_agrupado = df[filtro].groupby(['Responsável'])[coluna_valor].sum().reset_index()\n",
    "    df_agrupado = df_agrupado.rename(columns={coluna_valor: nome_coluna})\n",
    "    return df_agrupado\n",
    "\n",
    "df_responsavel1 = agrupa_e_soma(df, filtro_proximo, 'Valor', 'previsão proximo mês')\n",
    "df_responsavel2 = agrupa_e_soma(df, filtro_mes, 'Valor', 'previsão esse mês')\n",
    "df_responsavel3 = agrupa_e_soma(df2, filtro_implantados, 'Valor', 'implantados')\n",
    "df_responsavel4 = agrupa_e_soma(df, filtro_pagamentos, 'Valor', 'pagamento')\n",
    "df_responsavel5 = agrupa_e_soma(df, filtro_analise, 'Valor', 'análise')\n",
    "df_responsavel6 = agrupa_e_soma(df, filtro_documentacao, 'Valor', 'documentação')\n",
    "df_responsavel7 = df[filtro_follow_up].groupby(['Responsável'])['contagem'].count().reset_index().rename(columns={'contagem': 'Follow Up'})\n",
    "df_responsavel8 = df3.groupby(['Responsável'])['contagem'].count().reset_index().rename(columns={'contagem': 'Em Negociação'})"
   ]
  },
  {
   "cell_type": "code",
   "execution_count": 9,
   "id": "db5d3b44",
   "metadata": {},
   "outputs": [],
   "source": [
    "#concatena todos os dataframes em um unico dataframe\n",
    "dataframes = [df_responsavel2, df_responsavel3, df_responsavel4,\n",
    "              df_responsavel5, df_responsavel6, df_responsavel7, df_responsavel8, df_responsavel1]\n",
    "\n",
    "df_resultado = reduce(lambda df_left, df_right: pd.merge(df_left, df_right, on='Responsável', how='left'),\n",
    "                      dataframes)"
   ]
  },
  {
   "cell_type": "markdown",
   "id": "0c5656fc",
   "metadata": {},
   "source": [
    "## -----------------------------------------------Ultima linha-----------------------------------------------------"
   ]
  },
  {
   "cell_type": "code",
   "execution_count": 10,
   "id": "9464c1f6",
   "metadata": {},
   "outputs": [],
   "source": [
    "dataframes = [newdf1, newdf2, newdf3, newdf4,\n",
    "              newdf5, newdf6, newdf7]\n",
    "\n",
    "df_filtros = pd.concat(dataframes, axis=1)"
   ]
  },
  {
   "cell_type": "markdown",
   "id": "fed8c1d0",
   "metadata": {},
   "source": [
    "## -----------------------------------------------Ultima linha-----------------------------------------------------"
   ]
  },
  {
   "cell_type": "code",
   "execution_count": 11,
   "id": "255aef8b",
   "metadata": {},
   "outputs": [],
   "source": [
    "def salvar_dataframe(dataframe, nome_arquivo):\n",
    "    # Define o caminho onde o arquivo será salvo\n",
    "    caminho_salvar = 'C:\\\\Users\\\\WIN10\\\\Documents\\\\Mont seguro\\\\Relatorio_Comercial'\n",
    "    # Define o nome completo do arquivo, incluindo o caminho\n",
    "    caminho_completo = os.path.join(caminho_salvar, nome_arquivo)\n",
    "    # Salva o DataFrame em um arquivo Excel\n",
    "    dataframe.to_excel(caminho_completo, index=False)"
   ]
  },
  {
   "cell_type": "code",
   "execution_count": 12,
   "id": "4136819f",
   "metadata": {},
   "outputs": [],
   "source": [
    "salvar_dataframe(df_resultado, 'Negociação.xlsx')"
   ]
  },
  {
   "cell_type": "code",
   "execution_count": 13,
   "id": "ad3a4f44",
   "metadata": {},
   "outputs": [],
   "source": [
    "salvar_dataframe(df_filtros, 'Filtros.xlsx')"
   ]
  },
  {
   "cell_type": "code",
   "execution_count": 14,
   "id": "77b8d237",
   "metadata": {},
   "outputs": [
    {
     "data": {
      "text/html": [
       "<div>\n",
       "<style scoped>\n",
       "    .dataframe tbody tr th:only-of-type {\n",
       "        vertical-align: middle;\n",
       "    }\n",
       "\n",
       "    .dataframe tbody tr th {\n",
       "        vertical-align: top;\n",
       "    }\n",
       "\n",
       "    .dataframe thead th {\n",
       "        text-align: right;\n",
       "    }\n",
       "</style>\n",
       "<table border=\"1\" class=\"dataframe\">\n",
       "  <thead>\n",
       "    <tr style=\"text-align: right;\">\n",
       "      <th></th>\n",
       "      <th>Responsável</th>\n",
       "      <th>previsão esse mês</th>\n",
       "      <th>implantados</th>\n",
       "      <th>pagamento</th>\n",
       "      <th>análise</th>\n",
       "      <th>documentação</th>\n",
       "      <th>Follow Up</th>\n",
       "      <th>Em Negociação</th>\n",
       "      <th>previsão proximo mês</th>\n",
       "    </tr>\n",
       "  </thead>\n",
       "  <tbody>\n",
       "    <tr>\n",
       "      <th>0</th>\n",
       "      <td>Giovanni</td>\n",
       "      <td>14438.79</td>\n",
       "      <td>4248.94</td>\n",
       "      <td>3443.98</td>\n",
       "      <td>7724.83</td>\n",
       "      <td>8940.05</td>\n",
       "      <td>15</td>\n",
       "      <td>28</td>\n",
       "      <td>NaN</td>\n",
       "    </tr>\n",
       "    <tr>\n",
       "      <th>1</th>\n",
       "      <td>Hiltom</td>\n",
       "      <td>9055.41</td>\n",
       "      <td>8872.73</td>\n",
       "      <td>560.66</td>\n",
       "      <td>6925.67</td>\n",
       "      <td>4513.36</td>\n",
       "      <td>9</td>\n",
       "      <td>42</td>\n",
       "      <td>560.66</td>\n",
       "    </tr>\n",
       "    <tr>\n",
       "      <th>2</th>\n",
       "      <td>Vitória Monteiro</td>\n",
       "      <td>10325.96</td>\n",
       "      <td>781.56</td>\n",
       "      <td>4199.35</td>\n",
       "      <td>9082.22</td>\n",
       "      <td>4916.68</td>\n",
       "      <td>7</td>\n",
       "      <td>50</td>\n",
       "      <td>4978.75</td>\n",
       "    </tr>\n",
       "  </tbody>\n",
       "</table>\n",
       "</div>"
      ],
      "text/plain": [
       "        Responsável  previsão esse mês  implantados  pagamento  análise  \\\n",
       "0          Giovanni           14438.79      4248.94    3443.98  7724.83   \n",
       "1            Hiltom            9055.41      8872.73     560.66  6925.67   \n",
       "2  Vitória Monteiro           10325.96       781.56    4199.35  9082.22   \n",
       "\n",
       "   documentação  Follow Up  Em Negociação  previsão proximo mês  \n",
       "0       8940.05         15             28                   NaN  \n",
       "1       4513.36          9             42                560.66  \n",
       "2       4916.68          7             50               4978.75  "
      ]
     },
     "execution_count": 14,
     "metadata": {},
     "output_type": "execute_result"
    }
   ],
   "source": [
    "df_resultado"
   ]
  },
  {
   "cell_type": "code",
   "execution_count": null,
   "id": "9f0888e8",
   "metadata": {},
   "outputs": [],
   "source": []
  }
 ],
 "metadata": {
  "kernelspec": {
   "display_name": "Python 3 (ipykernel)",
   "language": "python",
   "name": "python3"
  },
  "language_info": {
   "codemirror_mode": {
    "name": "ipython",
    "version": 3
   },
   "file_extension": ".py",
   "mimetype": "text/x-python",
   "name": "python",
   "nbconvert_exporter": "python",
   "pygments_lexer": "ipython3",
   "version": "3.9.13"
  }
 },
 "nbformat": 4,
 "nbformat_minor": 5
}
